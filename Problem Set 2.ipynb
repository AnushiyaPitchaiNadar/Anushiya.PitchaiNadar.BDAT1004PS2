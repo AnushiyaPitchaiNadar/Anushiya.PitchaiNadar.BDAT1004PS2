{
 "cells": [
  {
   "cell_type": "markdown",
   "id": "ee4a1563",
   "metadata": {},
   "source": [
    "<h1 style=\"color: #004b87\">Question 1</h1>\n",
    "<p>Consider the following Python module:</p>\n",
    "<pre><code>a = 0\n",
    "def b():\n",
    "    global a\n",
    "    a = c(a)\n",
    "def c(a):\n",
    "    return a + 2\n",
    "</code></pre>\n",
    "<p>After importing the module into the interpreter, you execute:</p>\n",
    "<pre><code>&gt;&gt;&gt; b()\n",
    "&gt;&gt;&gt; b()\n",
    "&gt;&gt;&gt; b()\n",
    "&gt;&gt;&gt; a\n",
    "?</code></pre>\n",
    "<p>What value is displayed when the last expression (a) is evaluated? Explain your answer by indicating what happens in every executed statement.</p>"
   ]
  },
  {
   "cell_type": "code",
   "execution_count": 1,
   "id": "39aca2ca",
   "metadata": {},
   "outputs": [],
   "source": [
    "a = 0\n",
    "\n",
    "def b():\n",
    " global a\n",
    " a = c(a)\n",
    "    \n",
    "def c(a):\n",
    " return a + 2"
   ]
  },
  {
   "cell_type": "code",
   "execution_count": 2,
   "id": "a8a2f8d6",
   "metadata": {},
   "outputs": [
    {
     "data": {
      "text/plain": [
       "6"
      ]
     },
     "execution_count": 2,
     "metadata": {},
     "output_type": "execute_result"
    }
   ],
   "source": [
    "b()\n",
    "b()\n",
    "b()\n",
    "a"
   ]
  },
  {
   "cell_type": "markdown",
   "id": "4740ddad",
   "metadata": {},
   "source": [
    "<ol>\n",
    "    <li>'a' is initialised to 0 in global scope when program starts to run.</li>\n",
    "    <li>\n",
    "        <b>b()</b> - function b is called\n",
    "        <ul>\n",
    "            <li><b>global a</b> - we are going to use global variable 'a' in this function.</li>\n",
    "            <li>\n",
    "                <b>a = c(a)</b>\n",
    "                <ul>\n",
    "                    <li>\n",
    "                        <b>c(a)</b> - c(0) is called\n",
    "                        <ul>\n",
    "                            <li><b>return a + 2</b> - return 0 + 2 - returns 2</li>\n",
    "                        </ul>\n",
    "                    </li>\n",
    "                    <li>2 is assigned to 'a' in global scope</li>\n",
    "                </ul>\n",
    "            </li>\n",
    "        </ul>\n",
    "    </li>\n",
    "    <li>\n",
    "        <b>b()</b> - function b is called\n",
    "        <ul>\n",
    "            <li><b>global a</b> - we are going to use global variable 'a' in this function.</li>\n",
    "            <li>\n",
    "                <b>a = c(a)</b>\n",
    "                <ul>\n",
    "                    <li>\n",
    "                        <b>c(a)</b> - c(2) is called\n",
    "                        <ul>\n",
    "                            <li><b>return a + 2</b> - return 2 + 2 - returns 4</li>\n",
    "                        </ul>\n",
    "                    </li>\n",
    "                    <li>4 is assigned to 'a' in global scope</li>\n",
    "                </ul>\n",
    "            </li>\n",
    "        </ul>\n",
    "    </li>\n",
    "    <li>\n",
    "        <b>b()</b> - function b is called\n",
    "        <ul>\n",
    "            <li><b>global a</b> - we are going to use global variable 'a' in this function.</li>\n",
    "            <li>\n",
    "                <b>a = c(a)</b>\n",
    "                <ul>\n",
    "                    <li>\n",
    "                        <b>c(a)</b> - c(4) is called\n",
    "                        <ul>\n",
    "                            <li><b>return a + 2</b> - return 4 + 2 - returns 6</li>\n",
    "                        </ul>\n",
    "                    </li>\n",
    "                    <li>6 is assigned to 'a' in global scope</li>\n",
    "                </ul>\n",
    "            </li>\n",
    "        </ul>\n",
    "    </li>\n",
    "    <li><b>a</b> - displaying value of 'a' which is 6</li>\n",
    "</ol>"
   ]
  },
  {
   "cell_type": "markdown",
   "id": "f2da09bc",
   "metadata": {},
   "source": [
    "<h1 style=\"color: #004b87;\">Question 2</h1>\n",
    "<p>Function fileLength(), given to you, takes the name of a file as input and returns the length of the file:</p>\n",
    "<pre>\n",
    "<code>\n",
    "&gt;&gt;&gt; fileLength('midterm.py')\n",
    "284\n",
    "&gt;&gt;&gt; fileLength('idterm.py')\n",
    "Traceback (most recent call last):\n",
    "  File \"&lt;pyshell#34&gt;\", line 1, in &lt;module&gt;\n",
    "    fileLength('idterm.py')\n",
    "  File \"/Users/me/midterm.py\", line 3, in fileLength\n",
    "    infile = open(filename)\n",
    "FileNotFoundError: [Errno 2] No such file or directory: 'idterm.py'\n",
    "</code>\n",
    "</pre>\n",
    "<p>As shown above, if the file cannot be found by the interpreter or if it cannot be read as a text file, an exception will be raised. Modify function <code>fileLength()</code> so that a friendly message is printed instead:</p>\n",
    "<pre>\n",
    "<code>\n",
    "&gt;&gt;&gt; fileLength('midterm.py')\n",
    "358\n",
    "&gt;&gt;&gt; fileLength('idterm.py')\n",
    "File idterm.py not found.\n",
    "</code>\n",
    "</pre>"
   ]
  },
  {
   "cell_type": "code",
   "execution_count": 3,
   "id": "91e054df",
   "metadata": {},
   "outputs": [],
   "source": [
    "def fileLength(file_name):\n",
    "    try:\n",
    "        file = open(file_name)\n",
    "        contents = file.read()\n",
    "        file.close()\n",
    "        print(len(contents))\n",
    "    except FileNotFoundError:\n",
    "        print(f'File {file_name} not found.')"
   ]
  },
  {
   "cell_type": "code",
   "execution_count": 4,
   "id": "ccf25ae4",
   "metadata": {},
   "outputs": [
    {
     "name": "stdout",
     "output_type": "stream",
     "text": [
      "44\n"
     ]
    }
   ],
   "source": [
    "fileLength('midterm.txt')"
   ]
  },
  {
   "cell_type": "code",
   "execution_count": 5,
   "id": "c69ead55",
   "metadata": {},
   "outputs": [
    {
     "name": "stdout",
     "output_type": "stream",
     "text": [
      "File idterm.txt not found.\n"
     ]
    }
   ],
   "source": [
    "fileLength('idterm.txt')"
   ]
  },
  {
   "cell_type": "markdown",
   "id": "c319a393",
   "metadata": {},
   "source": [
    "<h1 style=\"color: #004b87;\">Question 3</h1>\n",
    "<p>Write a class named Marsupial that can be used as shown below:</p>\n",
    "<pre><code>\n",
    "&gt;&gt;&gt; m = Marsupial()\n",
    "&gt;&gt;&gt; m.put_in_pouch('doll')\n",
    "&gt;&gt;&gt; m.put_in_pouch('firetruck')\n",
    "&gt;&gt;&gt; m.put_in_pouch('kitten')\n",
    "&gt;&gt;&gt; m.pouch_contents()\n",
    "['doll', 'firetruck', 'kitten']\n",
    "</code></pre>\n",
    "<p>Now write a class named Kangaroo as a subclass of Marsupial that inherits all the attributes of Marsupial and also:</p>\n",
    "<ol type=\"a\">\n",
    "<li>extends the Marsupial __init__ constructor to take, as input, the coordinates x and y of the Kangaroo object,</li>\n",
    "<li>supports method jump that takes number values dx and dy as input and moves the kangaroo by dx units along the x-axis and by dy units along the y-axis, and</li>\n",
    "<li>overloads the __str__ operator so it behaves as shown below.</li>\n",
    "</ol>\n",
    "<pre>\n",
    "<code>\n",
    "&gt;&gt;&gt; k = Kangaroo(0,0)\n",
    "&gt;&gt;&gt; print(k)\n",
    "I am a Kangaroo located at coordinates (0,0)\n",
    "&gt;&gt;&gt; k.put_in_pouch('doll')\n",
    "&gt;&gt;&gt; k.put_in_pouch('firetruck')\n",
    "&gt;&gt;&gt; k.put_in_pouch('kitten')\n",
    "&gt;&gt;&gt; k.pouch_contents()\n",
    "['doll', 'firetruck', 'kitten']\n",
    "&gt;&gt;&gt; k.jump(1,0)\n",
    "&gt;&gt;&gt; k.jump(1,0)\n",
    "&gt;&gt;&gt; k.jump(1,0)\n",
    "&gt;&gt;&gt; print(k)\n",
    "I am a Kangaroo located at coordinates (3,0)\n",
    "</code>\n",
    "</pre>"
   ]
  },
  {
   "cell_type": "code",
   "execution_count": 6,
   "id": "a0bf219f",
   "metadata": {},
   "outputs": [],
   "source": [
    "class Marsupial():\n",
    "    \n",
    "    def __init__(self):\n",
    "        self.pouch = [];\n",
    "    \n",
    "    def put_in_pouch(self, item):\n",
    "        self.pouch.append(item)\n",
    "        \n",
    "    def pouch_contents(self):\n",
    "        print(self.pouch)"
   ]
  },
  {
   "cell_type": "code",
   "execution_count": 7,
   "id": "6cfe7b98",
   "metadata": {},
   "outputs": [
    {
     "name": "stdout",
     "output_type": "stream",
     "text": [
      "['doll', 'firetruck', 'kitten']\n"
     ]
    }
   ],
   "source": [
    "m = Marsupial()\n",
    "m.put_in_pouch('doll')\n",
    "m.put_in_pouch('firetruck')\n",
    "m.put_in_pouch('kitten')\n",
    "m.pouch_contents()"
   ]
  },
  {
   "cell_type": "code",
   "execution_count": 8,
   "id": "7ea5b7ee",
   "metadata": {},
   "outputs": [],
   "source": [
    "class Kangaroo(Marsupial):\n",
    "    \n",
    "    def __init__(self, xcoord, ycoord):\n",
    "        Marsupial.__init__(self)\n",
    "        self.x = xcoord\n",
    "        self.y = ycoord\n",
    "        \n",
    "    def jump(self, dx, dy):\n",
    "        self.x = self.x+dx\n",
    "        self.y = self.y+dy\n",
    "    \n",
    "    def __str__(self):\n",
    "        return f\"I am a Kangaroo located at coordinates ({self.x},{self.y})\""
   ]
  },
  {
   "cell_type": "code",
   "execution_count": 9,
   "id": "ad0c6fec",
   "metadata": {},
   "outputs": [
    {
     "name": "stdout",
     "output_type": "stream",
     "text": [
      "I am a Kangaroo located at coordinates (0,0)\n"
     ]
    }
   ],
   "source": [
    "k = Kangaroo(0,0)\n",
    "print(k)"
   ]
  },
  {
   "cell_type": "code",
   "execution_count": 10,
   "id": "153aa52d",
   "metadata": {},
   "outputs": [
    {
     "name": "stdout",
     "output_type": "stream",
     "text": [
      "['doll', 'firetruck', 'kitten']\n"
     ]
    }
   ],
   "source": [
    "k.put_in_pouch('doll')\n",
    "k.put_in_pouch('firetruck')\n",
    "k.put_in_pouch('kitten')\n",
    "k.pouch_contents()"
   ]
  },
  {
   "cell_type": "code",
   "execution_count": 11,
   "id": "32b17e90",
   "metadata": {},
   "outputs": [
    {
     "name": "stdout",
     "output_type": "stream",
     "text": [
      "I am a Kangaroo located at coordinates (3,0)\n"
     ]
    }
   ],
   "source": [
    "k.jump(1,0)\n",
    "k.jump(1,0)\n",
    "k.jump(1,0)\n",
    "print(k)"
   ]
  },
  {
   "cell_type": "markdown",
   "id": "3b981f0a",
   "metadata": {},
   "source": [
    "<h1 style=\"color: #004b87;\">Question 4</h1>\n",
    "<p>Write function collatz() that takes a positive integer x as input and prints the Collatz sequence starting at x. A Collatz sequence is obtained by repeatedly applying this rule to the previous number x in the sequence:</p>\n",
    "<pre>\n",
    "<code>\n",
    "x = {\n",
    "  x/2 if x is even\n",
    "  3x + 1 if x is odd\n",
    "}\n",
    "</code>\n",
    "</pre>\n",
    "<p>Your function should stop when the sequence gets to number 1. Your implementation must be recursive, without any loops.</p>\n",
    "<pre>\n",
    "<code>\n",
    "&gt;&gt;&gt; collatz(1)\n",
    "1\n",
    "&gt;&gt;&gt; collatz(10)\n",
    "10\n",
    "5\n",
    "16\n",
    "8\n",
    "4\n",
    "2\n",
    "1\n",
    "</code>\n",
    "</pre>\n"
   ]
  },
  {
   "cell_type": "code",
   "execution_count": 12,
   "id": "fd659d6b",
   "metadata": {},
   "outputs": [],
   "source": [
    "def collatz(x):\n",
    "    print(x)\n",
    "    if x <= 1:\n",
    "        return\n",
    "    if x%2 == 0:\n",
    "        collatz(x // 2)\n",
    "    else:\n",
    "        collatz(3 * x + 1)"
   ]
  },
  {
   "cell_type": "code",
   "execution_count": 13,
   "id": "695f9109",
   "metadata": {},
   "outputs": [
    {
     "name": "stdout",
     "output_type": "stream",
     "text": [
      "1\n"
     ]
    }
   ],
   "source": [
    "collatz(1)"
   ]
  },
  {
   "cell_type": "code",
   "execution_count": 14,
   "id": "5ac17e48",
   "metadata": {},
   "outputs": [
    {
     "name": "stdout",
     "output_type": "stream",
     "text": [
      "10\n",
      "5\n",
      "16\n",
      "8\n",
      "4\n",
      "2\n",
      "1\n"
     ]
    }
   ],
   "source": [
    "collatz(10)"
   ]
  },
  {
   "cell_type": "markdown",
   "id": "32f2227a",
   "metadata": {},
   "source": [
    "<h1 style=\"color: #004b87;\">Question 5</h1>\n",
    "<p>Write a recursive method binary() that takes a non-negative integer <code>n</code> and prints the binary representation of integer <code>n</code>.</p>\n",
    "<pre>\n",
    "<code>\n",
    "&gt;&gt;&gt; binary(0)\n",
    "0\n",
    "&gt;&gt;&gt; binary(1)\n",
    "1\n",
    "&gt;&gt;&gt; binary(3)\n",
    "11\n",
    "&gt;&gt;&gt; binary(9)\n",
    "1001\n",
    "</code>\n",
    "</pre>\n"
   ]
  },
  {
   "cell_type": "code",
   "execution_count": 15,
   "id": "37579dcb",
   "metadata": {},
   "outputs": [],
   "source": [
    "def binary(n):\n",
    "    if n < 2:\n",
    "        return n\n",
    "    return binary(n // 2) * 10 + n%2"
   ]
  },
  {
   "cell_type": "code",
   "execution_count": 16,
   "id": "c0a46a74",
   "metadata": {},
   "outputs": [
    {
     "data": {
      "text/plain": [
       "0"
      ]
     },
     "execution_count": 16,
     "metadata": {},
     "output_type": "execute_result"
    }
   ],
   "source": [
    "binary(0)"
   ]
  },
  {
   "cell_type": "code",
   "execution_count": 17,
   "id": "bb957ef5",
   "metadata": {},
   "outputs": [
    {
     "data": {
      "text/plain": [
       "1"
      ]
     },
     "execution_count": 17,
     "metadata": {},
     "output_type": "execute_result"
    }
   ],
   "source": [
    "binary(1)"
   ]
  },
  {
   "cell_type": "code",
   "execution_count": 18,
   "id": "f23cf6cf",
   "metadata": {},
   "outputs": [
    {
     "data": {
      "text/plain": [
       "11"
      ]
     },
     "execution_count": 18,
     "metadata": {},
     "output_type": "execute_result"
    }
   ],
   "source": [
    "binary(3)"
   ]
  },
  {
   "cell_type": "code",
   "execution_count": 19,
   "id": "98bcab5d",
   "metadata": {},
   "outputs": [
    {
     "data": {
      "text/plain": [
       "1001"
      ]
     },
     "execution_count": 19,
     "metadata": {},
     "output_type": "execute_result"
    }
   ],
   "source": [
    "binary(9)"
   ]
  },
  {
   "cell_type": "markdown",
   "id": "7ce43e45",
   "metadata": {},
   "source": [
    "<h1 style=\"color: #004b87;\">Question 6</h1>\n",
    "<p>Implement a class named HeadingParser that can be used to parse an HTML document, and retrieve and print all the headings in the document. You should implement your class as a subclass of HTMLParser, defined in Standard Library module html.parser. When fed a string containing HTML code, your class should print the headings, one per line and in the order in which they appear in the document. Each heading should be indented as follows: an h1 heading should have indentation 0, and h2 heading should have indentation 1, etc. Test your implementation using w3c.html.</p>\n",
    "<pre>\n",
    "<code>\n",
    "&gt;&gt;&gt; infile = open('w3c.html')\n",
    "&gt;&gt;&gt; content = infile.read()\n",
    "&gt;&gt;&gt; infile.close()\n",
    "&gt;&gt;&gt; hp = HeadingParser()\n",
    "&gt;&gt;&gt; hp.feed(content)\n",
    "W3C Mission\n",
    " Principles\n",
    "</code>\n",
    "</pre>"
   ]
  },
  {
   "cell_type": "code",
   "execution_count": 20,
   "id": "c5fd1e47",
   "metadata": {},
   "outputs": [],
   "source": [
    "from html.parser import HTMLParser\n",
    "\n",
    "class HeadingParser(HTMLParser):\n",
    "    \n",
    "    headings = ['h1', 'h2', 'h3', 'h4', 'h5', 'h6']\n",
    "    \n",
    "    \n",
    "    def __init__(self):\n",
    "        super().__init__()\n",
    "        self.isInHeadingTag = False\n",
    "        self.indentation = 0\n",
    "\n",
    "    \n",
    "    def handle_starttag(self, tag, attrs):\n",
    "        if tag in self.headings:\n",
    "            self.isInHeadingTag = True\n",
    "            self.indentation = int(tag[1]) - 1\n",
    "    \n",
    "    def handle_endtag(self, tag):\n",
    "        if tag in self.headings:\n",
    "            self.isInHeadingTag = False\n",
    "\n",
    "    def handle_data(self, data):\n",
    "        if self.isInHeadingTag:\n",
    "            print(' ' * self.indentation + data)\n",
    "    "
   ]
  },
  {
   "cell_type": "code",
   "execution_count": 21,
   "id": "8ac69343",
   "metadata": {},
   "outputs": [
    {
     "name": "stdout",
     "output_type": "stream",
     "text": [
      "W3C Mission\n",
      " Principles\n"
     ]
    }
   ],
   "source": [
    "infile = open('w3c.txt')\n",
    "content = infile.read()\n",
    "infile.close()\n",
    "hp = HeadingParser()\n",
    "hp.feed(content)"
   ]
  },
  {
   "cell_type": "markdown",
   "id": "c976e053",
   "metadata": {},
   "source": [
    "<h1 style=\"color: #004b87;\">Question 7</h1>\n",
    "<p>Implement recursive function webdir() that takes as input: a URL (as a string) and non-negative integers depth and indent. Your function should visit every web page reachable from the starting URL web page in depth clicks or less, and print each web page's URL. As shown below, indentation, specified by indent, should be used to indicate the depth of a URL.</p>\n",
    "<pre>\n",
    "<code>\n",
    "&gt;&gt;&gt; webdir('http://reed.cs.depaul.edu/lperkovic/csc242/test1.html', 2, 0)\n",
    "http://reed.cs.depaul.edu/lperkovic/csc242/test1.html\n",
    "    http://reed.cs.depaul.edu/lperkovic/csc242/test2.html\n",
    "        http://reed.cs.depaul.edu/lperkovic/csc242/test4.html\n",
    "    http://reed.cs.depaul.edu/lperkovic/csc242/test3.html\n",
    "http://reed.cs.depaul.edu/lperkovic/csc242/test4.html\n",
    "</code>\n",
    "</pre>"
   ]
  },
  {
   "cell_type": "markdown",
   "id": "e6a72eed",
   "metadata": {},
   "source": [
    "<h3>Note:</h3>\n",
    "<p>http://reed.cs.depaul.edu/lperkovic/csc242/test1.html - this url gave 404 response, so I'm using http://reed.cs.depaul.edu/lperkovic/one.html from Week 6 lecture notebook</p>"
   ]
  },
  {
   "cell_type": "code",
   "execution_count": 22,
   "id": "bd761f99",
   "metadata": {},
   "outputs": [],
   "source": [
    "from urllib.parse import urljoin\n",
    "from urllib.request import urlopen\n",
    "from html.parser import HTMLParser\n",
    "\n",
    "class Collector(HTMLParser):\n",
    "    'collects hyperlink URLs into a list'\n",
    "\n",
    "    def __init__(self, url):\n",
    "        'initializes parser, the url, and a list'\n",
    "        HTMLParser.__init__(self)\n",
    "        self.url = url\n",
    "        self.links = []\n",
    "\n",
    "    \n",
    "    def handle_starttag(self, tag, attrs):\n",
    "        'collects hyperlink URLs in their absolute format'\n",
    "        if tag == 'a':\n",
    "            for attr in attrs:\n",
    "                if attr[0] == 'href':\n",
    "                    absolute = urljoin(self.url, attr[1])\n",
    "                    if absolute[:4] == 'http':\n",
    "                        self.links.append(absolute)\n",
    "                        \n",
    "    def getLinks(self):\n",
    "        'returns hyperlinks URLs in their absolute format'\n",
    "        return self.links"
   ]
  },
  {
   "cell_type": "code",
   "execution_count": 23,
   "id": "ecefde40",
   "metadata": {},
   "outputs": [],
   "source": [
    "def analyze(url, indent):\n",
    "    print('    ' * indent, url)\n",
    "    content = urlopen(url).read().decode()\n",
    "    collector = Collector(url)\n",
    "    collector.feed(content)\n",
    "    urls = collector.getLinks() \n",
    "\n",
    "    return urls"
   ]
  },
  {
   "cell_type": "code",
   "execution_count": 24,
   "id": "c9792a69",
   "metadata": {},
   "outputs": [],
   "source": [
    "visited = set()\n",
    "\n",
    "def webdir(url, depth, indent):\n",
    "    \n",
    "    if depth < 0:\n",
    "        return\n",
    "    \n",
    "    global visited\n",
    "    visited.add(url)\n",
    "    \n",
    "    links = analyze(url, indent)\n",
    "    \n",
    "    for link in links:\n",
    "        try:\n",
    "            webdir(link, depth - 1, indent + 1)\n",
    "        except:\n",
    "            pass"
   ]
  },
  {
   "cell_type": "code",
   "execution_count": 25,
   "id": "882f519c",
   "metadata": {},
   "outputs": [
    {
     "name": "stdout",
     "output_type": "stream",
     "text": [
      " http://reed.cs.depaul.edu/lperkovic/one.html\n",
      "     http://reed.cs.depaul.edu/lperkovic/two.html\n",
      "         http://reed.cs.depaul.edu/lperkovic/four.html\n",
      "             http://reed.cs.depaul.edu/lperkovic/five.html\n",
      "                 http://reed.cs.depaul.edu/lperkovic/four.html\n",
      "                 http://reed.cs.depaul.edu/lperkovic/one.html\n",
      "                 http://reed.cs.depaul.edu/lperkovic/two.html\n",
      "     http://reed.cs.depaul.edu/lperkovic/three.html\n",
      "         http://reed.cs.depaul.edu/lperkovic/four.html\n",
      "             http://reed.cs.depaul.edu/lperkovic/five.html\n",
      "                 http://reed.cs.depaul.edu/lperkovic/four.html\n",
      "                 http://reed.cs.depaul.edu/lperkovic/one.html\n",
      "                 http://reed.cs.depaul.edu/lperkovic/two.html\n"
     ]
    }
   ],
   "source": [
    "webdir('http://reed.cs.depaul.edu/lperkovic/one.html', 4, 0)"
   ]
  },
  {
   "cell_type": "markdown",
   "id": "b6bf5759",
   "metadata": {},
   "source": [
    "<h1 style=\"color: #004b87;\">Question 8</h1>\n",
    "<p>Write SQL queries on the below database table that return:</p>\n",
    "<ol>\n",
    "<li>All the temperature data.</li>\n",
    "<li>All the cities, but without repetition.</li>\n",
    "<li>All the records for India.</li>\n",
    "<li>All the Fall records.</li>\n",
    "<li>The city, country, and season for which the average rainfall is between 200 and 400 millimeters.</li>\n",
    "<li>The city and country for which the average Fall temperature is above 20 degrees, in increasing temperature order.</li>\n",
    "<li>The total annual rainfall for Cairo.</li>\n",
    "<li>The total rainfall for each season.</li>\n",
    "</ol>\n",
    "<img src=\"weather data.png\" alt=\"Weather Data\" style=\"float: left;\" />"
   ]
  },
  {
   "cell_type": "code",
   "execution_count": 26,
   "id": "e713c5e6",
   "metadata": {},
   "outputs": [
    {
     "data": {
      "text/plain": [
       "<sqlite3.Cursor at 0x2cc8cf6a7c0>"
      ]
     },
     "execution_count": 26,
     "metadata": {},
     "output_type": "execute_result"
    }
   ],
   "source": [
    "import sqlite3\n",
    "\n",
    "connection = sqlite3.connect('weather.db')\n",
    "cursor = connection.cursor()\n",
    "\n",
    "create_table_query = '''\n",
    "CREATE TABLE Weather (\n",
    "    City TEXT,\n",
    "    Country TEXT,\n",
    "    Season TEXT,\n",
    "    Temperature REAL,\n",
    "    Rainfall REAL\n",
    ");\n",
    "'''\n",
    "cursor.execute(create_table_query)\n",
    "\n",
    "insert_data_query = '''\n",
    "INSERT INTO Weather (City, Country, Season, Temperature, Rainfall) VALUES\n",
    "('Mumbai', 'India', 'Winter', 24.8, 5.9),\n",
    "('Mumbai', 'India', 'Spring', 28.4, 16.2),\n",
    "('Mumbai', 'India', 'Summer', 27.9, 1549.4),\n",
    "('Mumbai', 'India', 'Fall', 27.6, 346.0),\n",
    "('London', 'United Kingdom', 'Winter', 4.2, 207.7),\n",
    "('London', 'United Kingdom', 'Spring', 8.3, 169.6),\n",
    "('London', 'United Kingdom', 'Summer', 15.7, 157.0),\n",
    "('London', 'United Kingdom', 'Fall', 10.4, 218.5),\n",
    "('Cairo', 'Egypt', 'Winter', 13.6, 16.5),\n",
    "('Cairo', 'Egypt', 'Spring', 20.7, 6.5),\n",
    "('Cairo', 'Egypt', 'Summer', 27.7, 0.1),\n",
    "('Cairo', 'Egypt', 'Fall', 22.2, 4.5);\n",
    "'''\n",
    "\n",
    "cursor.executescript(insert_data_query)"
   ]
  },
  {
   "cell_type": "code",
   "execution_count": 27,
   "id": "a2737516",
   "metadata": {},
   "outputs": [],
   "source": [
    "# Referred: \n",
    "#https://www.simplilearn.com/tutorials/python-tutorial/enumerate-in-python#:~:text=Enumerate%20is%20a%20built%2Din,iterating%20over%20the%20iterable%20object\n",
    "#https://stackoverflow.com/questions/8450472/how-to-print-a-string-at-a-fixed-width\n",
    "\n",
    "# Common method takes query as input and prints records in a tabular form\n",
    "def executeAndPrintResults(query):\n",
    "    cursor.execute(query)\n",
    "    records = cursor.fetchall()\n",
    "    column_names = [description[0] for description in cursor.description]\n",
    "    \n",
    "    widths = [len(column) for column in column_names]\n",
    "    for record in records:\n",
    "        for i, value in enumerate(record):\n",
    "            widths[i] = max(widths[i], len(str(value)))\n",
    "    \n",
    "    # Printing the header\n",
    "    header = ' | '.join(column.ljust(widths[i]) for i, column in enumerate(column_names))\n",
    "    print('-' * (len(header)+4))\n",
    "    print('|', header, '|')\n",
    "    print('-' * (len(header)+4))\n",
    "    \n",
    "    # Printing the records\n",
    "    for record in records:\n",
    "        print('| ', end = '')\n",
    "        print(' | '.join(str(value).ljust(widths[i]) for i, value in enumerate(record)), end = '')\n",
    "        print(' |')\n",
    "    print('-' * (len(header)+4))"
   ]
  },
  {
   "cell_type": "code",
   "execution_count": 28,
   "id": "238bcddb",
   "metadata": {},
   "outputs": [
    {
     "name": "stdout",
     "output_type": "stream",
     "text": [
      "a) All the temperature data:\n",
      "-------------------------------------------------------------\n",
      "| City   | Country        | Season | Temperature | Rainfall |\n",
      "-------------------------------------------------------------\n",
      "| Mumbai | India          | Winter | 24.8        | 5.9      |\n",
      "| Mumbai | India          | Spring | 28.4        | 16.2     |\n",
      "| Mumbai | India          | Summer | 27.9        | 1549.4   |\n",
      "| Mumbai | India          | Fall   | 27.6        | 346.0    |\n",
      "| London | United Kingdom | Winter | 4.2         | 207.7    |\n",
      "| London | United Kingdom | Spring | 8.3         | 169.6    |\n",
      "| London | United Kingdom | Summer | 15.7        | 157.0    |\n",
      "| London | United Kingdom | Fall   | 10.4        | 218.5    |\n",
      "| Cairo  | Egypt          | Winter | 13.6        | 16.5     |\n",
      "| Cairo  | Egypt          | Spring | 20.7        | 6.5      |\n",
      "| Cairo  | Egypt          | Summer | 27.7        | 0.1      |\n",
      "| Cairo  | Egypt          | Fall   | 22.2        | 4.5      |\n",
      "-------------------------------------------------------------\n"
     ]
    }
   ],
   "source": [
    "print(\"a) All the temperature data:\")\n",
    "executeAndPrintResults(\"SELECT * FROM Weather\")"
   ]
  },
  {
   "cell_type": "code",
   "execution_count": 29,
   "id": "14251bfe",
   "metadata": {},
   "outputs": [
    {
     "name": "stdout",
     "output_type": "stream",
     "text": [
      "b) All the cities, but without repetition:\n",
      "----------\n",
      "| City   |\n",
      "----------\n",
      "| Mumbai |\n",
      "| London |\n",
      "| Cairo  |\n",
      "----------\n"
     ]
    }
   ],
   "source": [
    "print(\"b) All the cities, but without repetition:\")\n",
    "executeAndPrintResults(\"SELECT DISTINCT City FROM Weather\")"
   ]
  },
  {
   "cell_type": "code",
   "execution_count": 30,
   "id": "efc2188b",
   "metadata": {},
   "outputs": [
    {
     "name": "stdout",
     "output_type": "stream",
     "text": [
      "c) All the records for India:\n",
      "------------------------------------------------------\n",
      "| City   | Country | Season | Temperature | Rainfall |\n",
      "------------------------------------------------------\n",
      "| Mumbai | India   | Winter | 24.8        | 5.9      |\n",
      "| Mumbai | India   | Spring | 28.4        | 16.2     |\n",
      "| Mumbai | India   | Summer | 27.9        | 1549.4   |\n",
      "| Mumbai | India   | Fall   | 27.6        | 346.0    |\n",
      "------------------------------------------------------\n"
     ]
    }
   ],
   "source": [
    "print(\"c) All the records for India:\")\n",
    "executeAndPrintResults(\"SELECT * FROM Weather WHERE Country = 'India'\")"
   ]
  },
  {
   "cell_type": "code",
   "execution_count": 31,
   "id": "95aa31f4",
   "metadata": {},
   "outputs": [
    {
     "name": "stdout",
     "output_type": "stream",
     "text": [
      "d) All the Fall records:\n",
      "-------------------------------------------------------------\n",
      "| City   | Country        | Season | Temperature | Rainfall |\n",
      "-------------------------------------------------------------\n",
      "| Mumbai | India          | Fall   | 27.6        | 346.0    |\n",
      "| London | United Kingdom | Fall   | 10.4        | 218.5    |\n",
      "| Cairo  | Egypt          | Fall   | 22.2        | 4.5      |\n",
      "-------------------------------------------------------------\n"
     ]
    }
   ],
   "source": [
    "print(\"d) All the Fall records:\")\n",
    "executeAndPrintResults(\"SELECT * FROM Weather WHERE Season = 'Fall'\")"
   ]
  },
  {
   "cell_type": "code",
   "execution_count": 32,
   "id": "758ef3f0",
   "metadata": {},
   "outputs": [
    {
     "name": "stdout",
     "output_type": "stream",
     "text": [
      "e) The city, country, and season for which the average rainfall is between 200 and 400 millimeters.\n",
      "------------------------------------\n",
      "| City   | Country        | Season |\n",
      "------------------------------------\n",
      "| Mumbai | India          | Fall   |\n",
      "| London | United Kingdom | Winter |\n",
      "| London | United Kingdom | Fall   |\n",
      "------------------------------------\n"
     ]
    }
   ],
   "source": [
    "print(\"e) The city, country, and season for which the average rainfall is between 200 and 400 millimeters.\")\n",
    "executeAndPrintResults(\"SELECT City, Country, Season FROM Weather WHERE Rainfall BETWEEN 200 AND 400\")"
   ]
  },
  {
   "cell_type": "code",
   "execution_count": 33,
   "id": "169c071c",
   "metadata": {},
   "outputs": [
    {
     "name": "stdout",
     "output_type": "stream",
     "text": [
      "f) The city and country for which the average Fall temperature is above 20 degrees, in increasing temperature order.\n",
      "--------------------\n",
      "| City   | Country |\n",
      "--------------------\n",
      "| Cairo  | Egypt   |\n",
      "| Mumbai | India   |\n",
      "--------------------\n"
     ]
    }
   ],
   "source": [
    "print(\"f) The city and country for which the average Fall temperature is above 20 degrees, in increasing temperature order.\")\n",
    "executeAndPrintResults(\"SELECT City, Country FROM Weather WHERE Season = 'Fall' AND Temperature > 20 ORDER BY Temperature\")"
   ]
  },
  {
   "cell_type": "code",
   "execution_count": 34,
   "id": "76524594",
   "metadata": {},
   "outputs": [
    {
     "name": "stdout",
     "output_type": "stream",
     "text": [
      "g) The total annual rainfall for Cairo.\n",
      "-----------------\n",
      "| SUM(Rainfall) |\n",
      "-----------------\n",
      "| 27.6          |\n",
      "-----------------\n"
     ]
    }
   ],
   "source": [
    "print(\"g) The total annual rainfall for Cairo.\")\n",
    "executeAndPrintResults(\"SELECT SUM(Rainfall) FROM Weather WHERE City = 'Cairo'\")"
   ]
  },
  {
   "cell_type": "code",
   "execution_count": 35,
   "id": "6bf16fe7",
   "metadata": {},
   "outputs": [
    {
     "name": "stdout",
     "output_type": "stream",
     "text": [
      "h) The total rainfall for each season.\n",
      "-------------------------------\n",
      "| Season | SUM(Rainfall)      |\n",
      "-------------------------------\n",
      "| Fall   | 569.0              |\n",
      "| Spring | 192.29999999999998 |\n",
      "| Summer | 1706.5             |\n",
      "| Winter | 230.1              |\n",
      "-------------------------------\n"
     ]
    }
   ],
   "source": [
    "print(\"h) The total rainfall for each season.\")\n",
    "executeAndPrintResults(\"SELECT Season, SUM(Rainfall) FROM Weather GROUP BY Season\")"
   ]
  },
  {
   "cell_type": "code",
   "execution_count": 36,
   "id": "ac282f82",
   "metadata": {},
   "outputs": [],
   "source": [
    "connection.commit()\n",
    "connection.close()"
   ]
  },
  {
   "cell_type": "markdown",
   "id": "1b2c28cb",
   "metadata": {},
   "source": [
    "<h1 style=\"color: #004b87;\">Question 9</h1>\n",
    "<p>Suppose list words is defined as follows:</p>\n",
    "<pre><code>&gt;&gt;&gt; words = ['The', 'quick', 'brown', 'fox', 'jumps', 'over', 'the', 'lazy', 'dog']</code></pre>\n",
    "<p>Write list comprehension expressions that use list words and generate the following lists:</p><pre><code><ol><li>['THE', 'QUICK', 'BROWN', 'FOX', 'JUMPS', 'OVER', 'THE', 'LAZY', 'DOG']</li>\n",
    "<li>['the', 'quick', 'brown', 'fox', 'jumps', 'over', 'the', 'lazy', 'dog']</li>\n",
    "<li>[3, 5, 5, 3, 5, 4, 3, 4, 3] (the list of lengths of words in list words).</li>\n",
    "<li>[['THE', 'the', 3], ['QUICK', 'quick', 5], ['BROWN', 'brown', 5], ['FOX', 'fox', 3], ['JUMPS', 'jumps', 5], ['OVER', 'over', 4], ['THE', 'the', 3], ['LAZY', 'lazy', 4], ['DOG', 'dog', 3]] (the list containing a list for every word of list words, where each list contains the word in uppercase and lowercase and the length of the word.)</li>\n",
    "<li>['The', 'quick', 'brown', 'fox', 'jumps', 'over', 'the', 'lazy', 'dog'] (the list of words in list words containing 4 or more characters.)</li></ol></code></pre>"
   ]
  },
  {
   "cell_type": "code",
   "execution_count": 37,
   "id": "6b2425ab",
   "metadata": {},
   "outputs": [],
   "source": [
    "words = ['The', 'quick', 'brown', 'fox', 'jumps', 'over', 'the', 'lazy', 'dog']"
   ]
  },
  {
   "cell_type": "code",
   "execution_count": 38,
   "id": "9bb43dfd",
   "metadata": {},
   "outputs": [],
   "source": [
    "wordsUpper = []\n",
    "wordsLower = []\n",
    "wordsLength = []\n",
    "wordsAll = []\n",
    "words4OrMore = []"
   ]
  },
  {
   "cell_type": "code",
   "execution_count": 39,
   "id": "3bf45299",
   "metadata": {},
   "outputs": [],
   "source": [
    "for word in words:\n",
    "    wordsUpper.append(word.upper())\n",
    "    wordsLower.append(word.lower())\n",
    "    wordsLength.append(len(word))\n",
    "    wordsAll.append([word.upper(), word.lower(), len(word)])\n",
    "    if len(word) >= 4:\n",
    "        words4OrMore.append(word)"
   ]
  },
  {
   "cell_type": "code",
   "execution_count": 40,
   "id": "ada989a0",
   "metadata": {},
   "outputs": [
    {
     "name": "stdout",
     "output_type": "stream",
     "text": [
      "Words in upper case: ['THE', 'QUICK', 'BROWN', 'FOX', 'JUMPS', 'OVER', 'THE', 'LAZY', 'DOG']\n"
     ]
    }
   ],
   "source": [
    "print('Words in upper case:', wordsUpper)"
   ]
  },
  {
   "cell_type": "code",
   "execution_count": 41,
   "id": "a8688ebd",
   "metadata": {},
   "outputs": [
    {
     "name": "stdout",
     "output_type": "stream",
     "text": [
      "Words in lower case: ['the', 'quick', 'brown', 'fox', 'jumps', 'over', 'the', 'lazy', 'dog']\n"
     ]
    }
   ],
   "source": [
    "print('Words in lower case:', wordsLower)"
   ]
  },
  {
   "cell_type": "code",
   "execution_count": 42,
   "id": "361e7916",
   "metadata": {},
   "outputs": [
    {
     "name": "stdout",
     "output_type": "stream",
     "text": [
      "Length of words: [3, 5, 5, 3, 5, 4, 3, 4, 3]\n"
     ]
    }
   ],
   "source": [
    "print('Length of words:', wordsLength)"
   ]
  },
  {
   "cell_type": "code",
   "execution_count": 43,
   "id": "1f2627e2",
   "metadata": {},
   "outputs": [
    {
     "name": "stdout",
     "output_type": "stream",
     "text": [
      "The list containing a list for every word of list words, where each list contains \n",
      "the word in uppercase and lowercase and the length of the word:\n",
      " [['THE', 'the', 3], ['QUICK', 'quick', 5], ['BROWN', 'brown', 5], ['FOX', 'fox', 3], ['JUMPS', 'jumps', 5], ['OVER', 'over', 4], ['THE', 'the', 3], ['LAZY', 'lazy', 4], ['DOG', 'dog', 3]]\n"
     ]
    }
   ],
   "source": [
    "print('''The list containing a list for every word of list words, where each list contains \n",
    "the word in uppercase and lowercase and the length of the word:\\n''', wordsAll)"
   ]
  },
  {
   "cell_type": "code",
   "execution_count": 44,
   "id": "65935359",
   "metadata": {},
   "outputs": [
    {
     "name": "stdout",
     "output_type": "stream",
     "text": [
      "The list of words in list words containing 4 or more characters: ['quick', 'brown', 'jumps', 'over', 'lazy']\n"
     ]
    }
   ],
   "source": [
    "print('The list of words in list words containing 4 or more characters:', words4OrMore)"
   ]
  },
  {
   "cell_type": "code",
   "execution_count": null,
   "id": "c1d41dc4",
   "metadata": {},
   "outputs": [],
   "source": []
  }
 ],
 "metadata": {
  "kernelspec": {
   "display_name": "Python 3 (ipykernel)",
   "language": "python",
   "name": "python3"
  },
  "language_info": {
   "codemirror_mode": {
    "name": "ipython",
    "version": 3
   },
   "file_extension": ".py",
   "mimetype": "text/x-python",
   "name": "python",
   "nbconvert_exporter": "python",
   "pygments_lexer": "ipython3",
   "version": "3.11.5"
  }
 },
 "nbformat": 4,
 "nbformat_minor": 5
}
